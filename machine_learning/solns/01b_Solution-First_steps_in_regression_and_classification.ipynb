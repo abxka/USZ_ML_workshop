{
 "cells": [
  {
   "cell_type": "code",
   "execution_count": 1,
   "metadata": {
    "collapsed": true
   },
   "outputs": [],
   "source": [
    "import numpy as np\n",
    "import matplotlib.pylab as plt\n",
    "import pandas as pd\n",
    "from sklearn import linear_model"
   ]
  },
  {
   "cell_type": "markdown",
   "metadata": {},
   "source": [
    "<h2> Exercise 2</h2>"
   ]
  },
  {
   "cell_type": "code",
   "execution_count": 3,
   "metadata": {},
   "outputs": [
    {
     "name": "stdout",
     "output_type": "stream",
     "text": [
      "Number of samples: 100\n",
      "Test sample's features:\n",
      " [[ 14.98836957]\n",
      " [  3.68762608]\n",
      " [ 17.95181208]\n",
      " [ 13.93820578]\n",
      " [ 17.63587021]\n",
      " [ 23.64575835]\n",
      " [ 15.17711225]\n",
      " [  8.53037434]\n",
      " [ 12.8126393 ]\n",
      " [ 23.36500876]\n",
      " [ 10.71167994]\n",
      " [  4.71890339]\n",
      " [ 20.33169523]\n",
      " [  4.54927709]\n",
      " [ 12.36124126]]\n",
      "Predicted labels:\n",
      " [ 5.65311868  2.77636581  6.40750194  5.38578568  6.32707478  7.85697084\n",
      "  5.70116561  4.00915107  5.09925792  7.78550234  4.56443109  3.03889101\n",
      "  7.01333249  2.99571041  4.98434862]\n",
      "Root mean squared error (RMSE): 2.558023298094877\n"
     ]
    },
    {
     "data": {
      "image/png": "[encoded data removed]",
      "text/plain": [
       "<matplotlib.figure.Figure at 0x104179e48>"
      ]
     },
     "metadata": {},
     "output_type": "display_data"
    }
   ],
   "source": [
    "# Reading and visualizing the data\n",
    "features = np.loadtxt('data/ex2_features_regression.txt')[:,np.newaxis]\n",
    "labels = np.loadtxt('data/ex2_labels_regression.txt')\n",
    "nsamples = features.size\n",
    "print ('Number of samples: {}'.format(nsamples))\n",
    "\n",
    "# Plotting\n",
    "plt.scatter(features, labels, color='b')\n",
    "plt.grid('on')\n",
    "plt.xlabel('features')\n",
    "plt.ylabel('labels')\n",
    "\n",
    "# We create an object that can do linear regression\n",
    "regr_ex = linear_model.LinearRegression()\n",
    "# We use the data to estimate its parameters with the fit function\n",
    "regr_ex.fit(features, labels)\n",
    "\n",
    "# Plotting\n",
    "x = np.asarray([[-0], [30]])\n",
    "plt.plot(x, regr_ex.predict(x), 'r', linewidth=2.5)\n",
    "\n",
    "# Reading features of the test samples and predicting with the learned model: \n",
    "test_features = np.loadtxt('data/ex2_test_features_regression.txt')[:,np.newaxis]\n",
    "print(\"Test sample's features:\\n {}\".format(test_features))\n",
    "test_predict = regr_ex.predict(test_features)\n",
    "print(\"Predicted labels:\\n {}\".format(test_predict))\n",
    "\n",
    "# Reading true labels and computing RMSE\n",
    "test_labels = np.loadtxt('data/ex2_test_labels_regression.txt')\n",
    "root_mean_squared_error = np.sqrt(np.mean((test_labels - test_predict)**2))\n",
    "print(\"Root mean squared error (RMSE): {}\".format(root_mean_squared_error))\n",
    "\n",
    "# Plotting\n",
    "plt.scatter(test_features, test_predict, color='g', s=100)\n",
    "plt.scatter(test_features, test_labels, color='k', s=100)\n",
    "plt.show() # showing everything on the screen"
   ]
  },
  {
   "cell_type": "markdown",
   "metadata": {},
   "source": [
    "<h2> Exercise 3 </h2>"
   ]
  },
  {
   "cell_type": "code",
   "execution_count": 2,
   "metadata": {},
   "outputs": [
    {
     "data": {
      "image/png": "[encoded data removed]",
      "text/plain": [
       "<matplotlib.figure.Figure at 0x1185de940>"
      ]
     },
     "metadata": {},
     "output_type": "display_data"
    },
    {
     "name": "stdout",
     "output_type": "stream",
     "text": [
      "Classification accuracy: 0.98\n",
      "False positive rate: 0.02\n",
      "False negative rate: 0.0\n"
     ]
    }
   ],
   "source": [
    "# Reading data\n",
    "features = np.loadtxt('data/ex3_features_classification.txt')\n",
    "labels = np.loadtxt('data/ex3_labels_classification.txt')\n",
    "# We create an object that can do logistic regression\n",
    "clas_ex = linear_model.LogisticRegression()\n",
    "# We use the data to estimate its parameters with the fit function\n",
    "clas_ex.fit(features, labels)\n",
    "\n",
    "# Plotting\n",
    "pos_rows = labels > 0\n",
    "neg_rows = labels <= 0\n",
    "plt.plot(features[pos_rows,0],features[pos_rows,1],'+',markersize=10,mew=2)\n",
    "plt.plot(features[neg_rows,0],features[neg_rows,1],'_',markersize=10,mew=2)\n",
    "plt.grid('on')\n",
    "plt.xlabel('feature1',fontsize=16), plt.ylabel('feature2',fontsize=16)\n",
    "\n",
    "x = np.asarray([[-15], [15]])\n",
    "# coefficients of the logistic regression are saved in the \"clas\" object and can be constructed into a line as\n",
    "m = clas_ex.coef_[0,0] / clas_ex.coef_[0,1]\n",
    "b = clas_ex.intercept_ / clas_ex.coef_[0,1]\n",
    "plt.plot(x[:,0], b - m*x[:,0], 'r--', linewidth=2)\n",
    "plt.ylim(-25,25)\n",
    "plt.show()\n",
    "\n",
    "# Reading test sample's features\n",
    "test_features = np.loadtxt('data/ex3_test_features_classification.txt')\n",
    "test_predict = clas_ex.predict(test_features)\n",
    "\n",
    "# Computing accuracy measures: \n",
    "test_labels = np.loadtxt('data/ex3_test_labels_classification.txt')\n",
    "clas_accuracy = np.sum(test_predict == test_labels) / test_features.shape[0]\n",
    "clas_fps = np.sum(test_predict > test_labels) / test_features.shape[0]\n",
    "clas_fns = np.sum(test_predict < test_labels) / test_features.shape[0]\n",
    "print('Classification accuracy: {}'.format(clas_accuracy))\n",
    "print('False positive rate: {}'.format(clas_fps))\n",
    "print('False negative rate: {}'.format(clas_fns))"
   ]
  }
 ],
 "metadata": {
  "kernelspec": {
   "display_name": "Python 3",
   "language": "python",
   "name": "python3"
  },
  "language_info": {
   "codemirror_mode": {
    "name": "ipython",
    "version": 3
   },
   "file_extension": ".py",
   "mimetype": "text/x-python",
   "name": "python",
   "nbconvert_exporter": "python",
   "pygments_lexer": "ipython3",
   "version": "3.6.6"
  }
 },
 "nbformat": 4,
 "nbformat_minor": 2
}
