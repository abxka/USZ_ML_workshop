{
 "cells": [
  {
   "cell_type": "code",
   "execution_count": 9,
   "metadata": {
    "collapsed": true
   },
   "outputs": [],
   "source": [
    "import numpy as np\n",
    "import matplotlib.pylab as plt"
   ]
  },
  {
   "cell_type": "markdown",
   "metadata": {},
   "source": [
    "<h3> Alzheimer's Disease Classification </h3>"
   ]
  },
  {
   "cell_type": "code",
   "execution_count": 12,
   "metadata": {},
   "outputs": [
    {
     "name": "stdout",
     "output_type": "stream",
     "text": [
      "Number of subjects: 290\n",
      "Number of features: 10242\n",
      "Number of AD cases: 145.0\n",
      "Number of CN cases: 145.0\n"
     ]
    }
   ],
   "source": [
    "features = np.loadtxt('data/features_ad_classification.txt')\n",
    "labels = np.loadtxt('data/labels_ad_classification.txt')\n",
    "print(\"Number of subjects: {}\".format(features.shape[0]))\n",
    "print(\"Number of features: {}\".format(features.shape[1]))\n",
    "print(\"Number of AD cases: {}\".format(np.sum(labels)))\n",
    "print(\"Number of CN cases: {}\".format(np.sum(1-labels)))"
   ]
  },
  {
   "cell_type": "code",
   "execution_count": 15,
   "metadata": {},
   "outputs": [
    {
     "name": "stdout",
     "output_type": "stream",
     "text": [
      "Prediction accuracy on the training set: 1.0\n",
      "\n",
      "Accuracies at different folds:\n",
      "=============================\n",
      "Linear SVM: [ 0.86206897  0.93103448  0.9137931   0.75862069  0.84482759]\n",
      "\n",
      "\n",
      "Generalization accuracy estimates:\n",
      "=============================\n",
      "Linear SVM: 0.8620689655172414\n"
     ]
    }
   ],
   "source": [
    "# import the required function to compute classification accuracy\n",
    "from sklearn.metrics import accuracy_score\n",
    "from sklearn import svm\n",
    "svml = svm.SVC(kernel='linear')\n",
    "\n",
    "# Computing prediction error on the training set. \n",
    "svml.fit(features, labels) # train on all the data\n",
    "preds = svml.predict(features)\n",
    "print(\"Prediction accuracy on the training set: {}\\n\".format(accuracy_score(labels,preds)))\n",
    "\n",
    "# import the required function to perform 5-fold stratified cross-validation\n",
    "# in stratified K-fold cross validation in each fold the ratio of the \n",
    "# number of different classes is the same as the entire dataset. \n",
    "from sklearn.model_selection import StratifiedKFold\n",
    "\n",
    "# creating an object to create partitions for the 5 fold cross validation\n",
    "numFolds = 5\n",
    "skf = StratifiedKFold(n_splits=numFolds)\n",
    "\n",
    "# creating a vector to hold accuracies of different folds: \n",
    "acc_vec = np.zeros(numFolds)\n",
    "# in this for loop we go over different partitions. \n",
    "n = 0\n",
    "for trainind, testind in skf.split(features, labels):\n",
    "    # training both classification models using the training partitions of the dataset. \n",
    "    svml.fit(features[trainind,:], labels[trainind])\n",
    "    \n",
    "    # predictions in the test partition of each fold\n",
    "    preds_cv = svml.predict(features[testind,:])\n",
    "    \n",
    "    # computing accuracy for the test partitions\n",
    "    acc_vec[n] = accuracy_score(labels[testind], preds_cv)\n",
    "    n += 1\n",
    "\n",
    "print(\"Accuracies at different folds:\")\n",
    "print(\"=============================\")\n",
    "print(\"Linear SVM: {}\".format(acc_vec))\n",
    "print(\"\\n\")\n",
    "print(\"Generalization accuracy estimates:\")\n",
    "print(\"=============================\")\n",
    "print(\"Linear SVM: {}\".format(np.mean(acc_vec)))\n"
   ]
  },
  {
   "cell_type": "markdown",
   "metadata": {},
   "source": [
    "<h3> Age Regression </h3>"
   ]
  },
  {
   "cell_type": "code",
   "execution_count": 23,
   "metadata": {},
   "outputs": [
    {
     "name": "stdout",
     "output_type": "stream",
     "text": [
      "Number of subjects: 335\n",
      "Number of features: 45\n",
      "Mean age in the dataset: 43.86865671641791\n",
      "Min / Max age in the dataset: 18.0/94.0\n"
     ]
    }
   ],
   "source": [
    "# features are saved in a matrix\n",
    "# note that here we read a csv file with np.loadtxt - this is another alternative to reading csv files\n",
    "features = np.loadtxt('data/features_age_regression.csv', delimiter=',').T\n",
    "# labels are saved as a vector\n",
    "labels = np.loadtxt('data/labels_age_regression.csv', delimiter=',')\n",
    "# printing information on the dataset\n",
    "print(\"Number of subjects: {}\".format(features.shape[0]))\n",
    "print(\"Number of features: {}\".format(features.shape[1]))\n",
    "print(\"Mean age in the dataset: {}\".format(np.mean(labels)))\n",
    "print(\"Min / Max age in the dataset: {}/{}\".format(np.min(labels), np.max(labels)))"
   ]
  },
  {
   "cell_type": "code",
   "execution_count": 27,
   "metadata": {},
   "outputs": [
    {
     "name": "stdout",
     "output_type": "stream",
     "text": [
      "RMSE on the training set: 13.274767541908702\n",
      "\n",
      "Pearson's correlation coefficient on the training set: 0.8297023861280494\n",
      "\n",
      "Accuracies at different folds:\n",
      "=============================\n",
      "LASSO - RMSE: [ 12.45859544  13.56866578  14.68075349  15.8606269   11.86957188]\n",
      "LASSO - r: [ 0.83871396  0.82190906  0.82123691  0.75776068  0.84400263]\n",
      "\n",
      "\n",
      "Generalization accuracy estimates:\n",
      "=============================\n",
      "LASSO - RMSE: 13.687642695718148\n",
      "LASSO - r: 0.8167246479485119\n"
     ]
    }
   ],
   "source": [
    "# import the required function to compute classification accuracy\n",
    "from sklearn.metrics import mean_squared_error\n",
    "from sklearn import linear_model\n",
    "lasso = linear_model.Lasso()\n",
    "\n",
    "# Computing prediction error on the training set. \n",
    "lasso.fit(features, labels) # train on all the data\n",
    "preds = lasso.predict(features)\n",
    "print(\"RMSE on the training set: {}\\n\".format(np.sqrt(mean_squared_error(labels,preds))))\n",
    "print(\"Pearson's correlation coefficient on the training set: {}\\n\".format(np.corrcoef(labels,preds)[0,1]))\n",
    "\n",
    "# import the required function to perform 5-fold stratified cross-validation\n",
    "# in stratified K-fold cross validation in each fold the ratio of the \n",
    "# number of different classes is the same as the entire dataset. \n",
    "from sklearn.model_selection import KFold\n",
    "\n",
    "# creating an object to create partitions for the 5 fold cross validation\n",
    "numFolds = 5\n",
    "skf = KFold(n_splits=numFolds)\n",
    "\n",
    "# creating a vector to hold accuracies of different folds: \n",
    "rmse_vec = np.zeros(numFolds)\n",
    "r_vec = np.zeros(numFolds)\n",
    "# in this for loop we go over different partitions. \n",
    "n = 0\n",
    "for trainind, testind in skf.split(features, labels):\n",
    "    # training both classification models using the training partitions of the dataset. \n",
    "    lasso.fit(features[trainind,:], labels[trainind])\n",
    "    \n",
    "    # predictions in the test partition of each fold\n",
    "    preds_cv = lasso.predict(features[testind,:])\n",
    "    \n",
    "    # computing accuracy for the test partitions\n",
    "    rmse_vec[n] = np.sqrt(mean_squared_error(labels[testind], preds_cv))\n",
    "    r_vec[n] = np.corrcoef(labels[testind],preds_cv)[0,1]\n",
    "                          \n",
    "    n += 1\n",
    "\n",
    "print(\"Accuracies at different folds:\")\n",
    "print(\"=============================\")\n",
    "print(\"LASSO - RMSE: {}\".format(rmse_vec))\n",
    "print(\"LASSO - r: {}\".format(r_vec))\n",
    "print(\"\\n\")\n",
    "print(\"Generalization accuracy estimates:\")\n",
    "print(\"=============================\")\n",
    "print(\"LASSO - RMSE: {}\".format(np.mean(rmse_vec)))\n",
    "print(\"LASSO - r: {}\".format(np.mean(r_vec)))\n"
   ]
  },
  {
   "cell_type": "code",
   "execution_count": null,
   "metadata": {
    "collapsed": true
   },
   "outputs": [],
   "source": []
  }
 ],
 "metadata": {
  "kernelspec": {
   "display_name": "Python 3",
   "language": "python",
   "name": "python3"
  },
  "language_info": {
   "codemirror_mode": {
    "name": "ipython",
    "version": 3
   },
   "file_extension": ".py",
   "mimetype": "text/x-python",
   "name": "python",
   "nbconvert_exporter": "python",
   "pygments_lexer": "ipython3",
   "version": "3.6.6"
  }
 },
 "nbformat": 4,
 "nbformat_minor": 2
}
