{
 "cells": [
  {
   "cell_type": "code",
   "execution_count": null,
   "metadata": {
    "collapsed": true
   },
   "outputs": [],
   "source": [
    "import numpy as np\n",
    "import matplotlib.pylab as plt\n",
    "import nibabel as nib"
   ]
  },
  {
   "cell_type": "markdown",
   "metadata": {},
   "source": [
    "<h2>Unsupervised Learning and Image Segmentations with Gaussian Mixture Models</h2>\n",
    "\n",
    "In this last section we will see an algorithm for unsupervised learning and apply it to segmenting brain MRI. This will be a rather different application of machine learning on biomedical images than the ones we have seen earlier. \n",
    "\n",
    "In unsupervised learning the goal is not to predict a certain label using features but approximate the distribution of the features. Mathematically, we are interested in estimating the distribution $p(x)$, where $x$ is the vector of features and $p(\\cdot)$ represents the probability distribution. \n",
    "\n",
    "There are many methods to do this. For instance, when you fit a Gaussian distribution to your sample, i.e. estimate the mean and variance using sample statistics, you are applying one of the most basic unsupervised learning algorithm. In this section, we will see an algorithm that is slightly more complicated and very widely used in biomedical image analysis.\n",
    "\n",
    "Let us see a 2D dataset to better motivate the need for more complicated models. "
   ]
  },
  {
   "cell_type": "code",
   "execution_count": null,
   "metadata": {},
   "outputs": [],
   "source": [
    "features = np.loadtxt('data/features_clustering.txt')\n",
    "plt.figure()\n",
    "plt.scatter(features[:,0], features[:,1]),\n",
    "plt.grid('on')\n",
    "plt.xlabel('feature 1'), plt.ylabel('feature 2')\n",
    "plt.show()"
   ]
  },
  {
   "cell_type": "markdown",
   "metadata": {},
   "source": [
    "The plot as usual shows different sample points in our dataset. Notice that there are three different samples are gathered around three clusters. This scenario is not uncommon. Let us look at an MRI image (that is pre-processed for segmentation analysis) and examine the intensity histogram. "
   ]
  },
  {
   "cell_type": "code",
   "execution_count": null,
   "metadata": {},
   "outputs": [],
   "source": [
    "I = nib.load('data/segm_mri.nii.gz')\n",
    "V = I.get_data()\n",
    "VI = V[:,:,110]\n",
    "plt.figure()\n",
    "plt.imshow(VI,cmap='gray')\n",
    "plt.show()\n",
    "plt.figure()\n",
    "plt.hist(VI.flatten(), bins=100)\n",
    "plt.show()"
   ]
  },
  {
   "cell_type": "markdown",
   "metadata": {},
   "source": [
    "Obviously, there are way too many back-ground pixels. Let us look at only the foreground pixels"
   ]
  },
  {
   "cell_type": "code",
   "execution_count": null,
   "metadata": {},
   "outputs": [],
   "source": [
    "VIf = VI.flatten()\n",
    "nonzero_VIf = VIf[VIf>0]\n",
    "plt.figure()\n",
    "plt.hist(nonzero_VIf, bins=100)\n",
    "plt.show()"
   ]
  },
  {
   "cell_type": "markdown",
   "metadata": {},
   "source": [
    "Observe that in this histogram, intensities seem to cluster around several centers as well. \n",
    "\n",
    "One important method that is widely used to model such data is called <b>Gaussian Mixture Model</b>. The main idea is to model the probability distribution of features with sum of multiple Gaussian distributions: \n",
    "\n",
    "$p(x) = \\sum_{k=1}^K p(l=k) p(x|l=k) = \\sum_{k=1}^K p(l=k)\\mathcal{N}(x;\\mu_k, \\sigma_k)$\n",
    "\n",
    "where $l$ is a <b>latent variable</b> or a <b>latent label</b>, $\\mathcal{N}(x;\\mu_k, \\sigma_k)$ are Gaussian distributions and $p(l=k)$ are called mixture components with $\\sum_{k=1}^K p(l=k) = 1$. $K$ is the number of components that we use in the model. In the basic application of mixture models, $K$ is a user defined parameter. However, in more advanced techniques that can be estimated as well. \n",
    "\n",
    "Gaussian mixture model implicitly assigns labels to each data point based on the posterior distribution $p(l=k|x)$. These implicit assignments can be used to cluster data and also segment brain MRI. \n",
    "\n",
    "Gaussian mixture models are implemented in scikit-learn. Let us first apply it to the 2D example we saw at the beginning. "
   ]
  },
  {
   "cell_type": "code",
   "execution_count": null,
   "metadata": {},
   "outputs": [],
   "source": [
    "# Import the required module\n",
    "from sklearn.mixture import GaussianMixture\n",
    "\n",
    "# let us set the number of components to 3\n",
    "gmm = GaussianMixture(n_components=3)\n",
    "# fitting the mixture model\n",
    "gmm.fit(features)\n",
    "# now let us predict the latent label for each sample point\n",
    "lat_labels = gmm.predict(features)\n",
    "\n",
    "# Plotting\n",
    "plt.figure()\n",
    "plt.plot(features[lat_labels==0,0], features[lat_labels==0,1], 'bo')\n",
    "plt.plot(features[lat_labels==1,0], features[lat_labels==1,1], 'ro')\n",
    "plt.plot(features[lat_labels==2,0], features[lat_labels==2,1], 'go')\n",
    "plt.grid('on')\n",
    "plt.xlabel('feature 1'), plt.ylabel('feature 2')\n",
    "plt.show()"
   ]
  },
  {
   "cell_type": "markdown",
   "metadata": {},
   "source": [
    "We can apply the same algorithm to the intensities of the MRI image. "
   ]
  },
  {
   "cell_type": "code",
   "execution_count": null,
   "metadata": {},
   "outputs": [],
   "source": [
    "# let us set the number of components to 3\n",
    "gmm_mri = GaussianMixture(n_components=3)\n",
    "# fitting the mixture model\n",
    "gmm_mri.fit(nonzero_VIf[:,np.newaxis])\n",
    "# now let us predict the latent label for each sample point\n",
    "lat_labels_mri = gmm_mri.predict(nonzero_VIf[:,np.newaxis])\n",
    "\n",
    "# Plotting\n",
    "lat_labels_im = -1*np.ones(VIf.shape)\n",
    "lat_labels_im[VIf > 0] = lat_labels_mri\n",
    "plt.figure(figsize=(10,8))\n",
    "plt.subplot(1,2,1)\n",
    "plt.imshow(VI,cmap='gray')\n",
    "plt.subplot(1,2,2)\n",
    "plt.imshow(lat_labels_im.reshape(128,256))\n",
    "plt.show()"
   ]
  },
  {
   "cell_type": "markdown",
   "metadata": {},
   "source": [
    "<h3>Exercise 8:</h3>\n",
    "\n",
    "In this exercise, you will play with the number of components in the mixture model and observe what type of changes it will make in the clustering in the 2D dataset or the brain MRI. "
   ]
  },
  {
   "cell_type": "code",
   "execution_count": null,
   "metadata": {
    "collapsed": true
   },
   "outputs": [],
   "source": [
    "# TODO"
   ]
  }
 ],
 "metadata": {
  "kernelspec": {
   "display_name": "Python 3",
   "language": "python",
   "name": "python3"
  },
  "language_info": {
   "codemirror_mode": {
    "name": "ipython",
    "version": 3
   },
   "file_extension": ".py",
   "mimetype": "text/x-python",
   "name": "python",
   "nbconvert_exporter": "python",
   "pygments_lexer": "ipython3",
   "version": "3.6.1"
  }
 },
 "nbformat": 4,
 "nbformat_minor": 2
}
